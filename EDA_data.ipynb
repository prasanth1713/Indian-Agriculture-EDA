{
 "cells": [
  {
   "cell_type": "code",
   "execution_count": 12,
   "id": "068e5bcb",
   "metadata": {},
   "outputs": [],
   "source": [
    "import pandas as pd\n",
    "import plotly.express as px\n",
    "import plotly.io as pio\n"
   ]
  },
  {
   "cell_type": "code",
   "execution_count": 10,
   "id": "8cec44c6",
   "metadata": {},
   "outputs": [],
   "source": [
    "# Loading cleaned dataset\n",
    "df = pd.read_csv(\"agri_cleaned.csv\")"
   ]
  },
  {
   "cell_type": "code",
   "execution_count": 17,
   "id": "79d94f1b",
   "metadata": {},
   "outputs": [],
   "source": [
    "pio.renderers.default = 'browser'"
   ]
  },
  {
   "cell_type": "code",
   "execution_count": 19,
   "id": "66c14999",
   "metadata": {},
   "outputs": [],
   "source": [
    "# 1. Top 7 Rice Producing States\n",
    "rice_top = df.groupby(\"State\")[\"Rice_Prod_1000t\"].sum().sort_values(ascending=False).head(7).reset_index()\n",
    "fig = px.bar(rice_top, x='State', y='Rice_Prod_1000t', title='Top 7 States by Rice Production')\n",
    "fig.show()"
   ]
  },
  {
   "cell_type": "code",
   "execution_count": 20,
   "id": "8a4bbcb4",
   "metadata": {},
   "outputs": [],
   "source": [
    "# 2. Top 5 Wheat Producing States - Pie\n",
    "wheat_top = df.groupby(\"State\")[\"Wheat_Prod_1000t\"].sum().sort_values(ascending=False).head(5)\n",
    "px.pie(wheat_top, names=wheat_top.index, values=wheat_top.values, title=\"Top 5 Wheat Producing States\").show()"
   ]
  },
  {
   "cell_type": "code",
   "execution_count": null,
   "id": "be9c2b34",
   "metadata": {},
   "outputs": [],
   "source": [
    "# 3. Sugarcane Production Over 50 Years\n",
    "sugarcane_trend = df.groupby(\"Year\")[\"Sugarcane_Prod_1000t\"].sum().reset_index()\n",
    "px.line(sugarcane_trend, x='Year', y='Sugarcane_Prod_1000t', title='India’s Sugarcane Production (50 Years)').show()\n",
    "\n",
    "# 4. Rice vs Wheat Production Trends\n",
    "prod_trend = df.groupby(\"Year\")[[\"Rice_Prod_1000t\", \"Wheat_Prod_1000t\"]].sum().reset_index()\n",
    "px.line(prod_trend, x='Year', y=[\"Rice_Prod_1000t\", \"Wheat_Prod_1000t\"], title='Rice vs Wheat Production (Last 50 Years)').show()\n",
    "\n",
    "# 5. Groundnut Production - Top States\n",
    "groundnut_top = df.groupby(\"State\")[\"Groundnut_Prod_1000t\"].sum().sort_values(ascending=False).head(7).reset_index()\n",
    "px.bar(groundnut_top, x=\"State\", y=\"Groundnut_Prod_1000t\", title=\"Top 7 Groundnut Producing States\").show()\n",
    "\n",
    "# 6. Sunflower Production - Top States\n",
    "sunflower_top = df.groupby(\"State\")[\"Sunflower_Prod_1000t\"].sum().sort_values(ascending=False).head(7).reset_index()\n",
    "px.bar(sunflower_top, x=\"State\", y=\"Sunflower_Prod_1000t\", title=\"Top 7 Sunflower Producing States\").show()\n",
    "\n",
    "# 7. Soybean Production & Yield\n",
    "soybean_top = df.groupby(\"State\")[[\"Soybean_Prod_1000t\", \"Soybean_Yield\"]].mean().sort_values(\"Soybean_Prod_1000t\", ascending=False).head(5).reset_index()\n",
    "px.bar(soybean_top, x=\"State\", y=\"Soybean_Prod_1000t\", title=\"Top 5 Soybean Producing States and Yield Efficiency\").show()\n",
    "\n",
    "# 8. Oilseed Production\n",
    "oilseed_top = df.groupby(\"State\")[\"Oilseed_Prod_1000t\"].sum().sort_values(ascending=False).reset_index()\n",
    "px.bar(oilseed_top, x=\"State\", y=\"Oilseed_Prod_1000t\", title=\"Oilseed Production in Major States\").show()\n",
    "\n",
    "# 9. Area Impact on Production\n",
    "area_effect = df.groupby(\"Year\")[[\"Rice_Area_1000ha\", \"Wheat_Area_1000ha\", \"Maize_Yield\"]].mean().reset_index()\n",
    "px.line(area_effect, x=\"Year\", y=[\"Rice_Area_1000ha\", \"Wheat_Area_1000ha\", \"Maize_Yield\"], title=\"Impact of Area Cultivated on Production\").show()\n",
    "\n",
    "# 10. Yield Comparison\n",
    "yield_states = df.groupby(\"State\")[[\"Rice_Yield\", \"Wheat_Yield\"]].mean().reset_index()\n",
    "px.scatter(yield_states, x=\"Rice_Yield\", y=\"Wheat_Yield\", hover_name=\"State\", title=\"Rice vs. Wheat Yield Across States\").show()"
   ]
  },
  {
   "cell_type": "code",
   "execution_count": null,
   "id": "0f87d74c",
   "metadata": {},
   "outputs": [],
   "source": [
    "\n",
    "\n",
    "\n",
    "\n",
    "\n",
    "\n",
    "\n"
   ]
  }
 ],
 "metadata": {
  "kernelspec": {
   "display_name": ".venv",
   "language": "python",
   "name": "python3"
  },
  "language_info": {
   "codemirror_mode": {
    "name": "ipython",
    "version": 3
   },
   "file_extension": ".py",
   "mimetype": "text/x-python",
   "name": "python",
   "nbconvert_exporter": "python",
   "pygments_lexer": "ipython3",
   "version": "3.12.10"
  }
 },
 "nbformat": 4,
 "nbformat_minor": 5
}
